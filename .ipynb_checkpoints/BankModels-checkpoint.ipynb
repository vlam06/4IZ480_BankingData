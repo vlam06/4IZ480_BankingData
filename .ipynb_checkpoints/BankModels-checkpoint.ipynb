{
 "cells": [
  {
   "cell_type": "code",
   "execution_count": 211,
   "id": "87143d15",
   "metadata": {},
   "outputs": [
    {
     "data": {
      "text/html": [
       "<div>\n",
       "<style scoped>\n",
       "    .dataframe tbody tr th:only-of-type {\n",
       "        vertical-align: middle;\n",
       "    }\n",
       "\n",
       "    .dataframe tbody tr th {\n",
       "        vertical-align: top;\n",
       "    }\n",
       "\n",
       "    .dataframe thead th {\n",
       "        text-align: right;\n",
       "    }\n",
       "</style>\n",
       "<table border=\"1\" class=\"dataframe\">\n",
       "  <thead>\n",
       "    <tr style=\"text-align: right;\">\n",
       "      <th></th>\n",
       "      <th>Gender</th>\n",
       "      <th>Age_Cat</th>\n",
       "      <th>Ten_Cat</th>\n",
       "      <th>Saving_Amount</th>\n",
       "      <th>Current_Amount</th>\n",
       "      <th>Time_Deposits_Amount</th>\n",
       "      <th>Funds_Amount</th>\n",
       "      <th>Stocks_Amount</th>\n",
       "      <th>Money_Sum</th>\n",
       "      <th>Bank_Assurance_Amount</th>\n",
       "      <th>...</th>\n",
       "      <th>Home_Loan_Amount</th>\n",
       "      <th>Consumer_Loan_Amount</th>\n",
       "      <th>Loan_sum</th>\n",
       "      <th>Branch_Transactions</th>\n",
       "      <th>ATM_Transactions</th>\n",
       "      <th>Phone_Transactions</th>\n",
       "      <th>Internet_Transactions</th>\n",
       "      <th>Standing_Orders</th>\n",
       "      <th>Trans_sum</th>\n",
       "      <th>New_Credit_Card_Flag</th>\n",
       "    </tr>\n",
       "  </thead>\n",
       "  <tbody>\n",
       "    <tr>\n",
       "      <th>0</th>\n",
       "      <td>M</td>\n",
       "      <td>UpperMid</td>\n",
       "      <td>Normal</td>\n",
       "      <td>False</td>\n",
       "      <td>False</td>\n",
       "      <td>False</td>\n",
       "      <td>False</td>\n",
       "      <td>False</td>\n",
       "      <td>0.000000</td>\n",
       "      <td>True</td>\n",
       "      <td>...</td>\n",
       "      <td>True</td>\n",
       "      <td>False</td>\n",
       "      <td>20044.611429</td>\n",
       "      <td>False</td>\n",
       "      <td>False</td>\n",
       "      <td>False</td>\n",
       "      <td>False</td>\n",
       "      <td>False</td>\n",
       "      <td>0</td>\n",
       "      <td>0</td>\n",
       "    </tr>\n",
       "    <tr>\n",
       "      <th>1</th>\n",
       "      <td>F</td>\n",
       "      <td>Older</td>\n",
       "      <td>Normal</td>\n",
       "      <td>False</td>\n",
       "      <td>False</td>\n",
       "      <td>False</td>\n",
       "      <td>False</td>\n",
       "      <td>False</td>\n",
       "      <td>0.000000</td>\n",
       "      <td>False</td>\n",
       "      <td>...</td>\n",
       "      <td>False</td>\n",
       "      <td>True</td>\n",
       "      <td>2430.224286</td>\n",
       "      <td>True</td>\n",
       "      <td>True</td>\n",
       "      <td>False</td>\n",
       "      <td>False</td>\n",
       "      <td>False</td>\n",
       "      <td>7</td>\n",
       "      <td>0</td>\n",
       "    </tr>\n",
       "    <tr>\n",
       "      <th>2</th>\n",
       "      <td>M</td>\n",
       "      <td>UpperMid</td>\n",
       "      <td>Normal</td>\n",
       "      <td>True</td>\n",
       "      <td>False</td>\n",
       "      <td>False</td>\n",
       "      <td>False</td>\n",
       "      <td>False</td>\n",
       "      <td>18.825714</td>\n",
       "      <td>False</td>\n",
       "      <td>...</td>\n",
       "      <td>False</td>\n",
       "      <td>False</td>\n",
       "      <td>0.000000</td>\n",
       "      <td>False</td>\n",
       "      <td>False</td>\n",
       "      <td>False</td>\n",
       "      <td>False</td>\n",
       "      <td>False</td>\n",
       "      <td>0</td>\n",
       "      <td>0</td>\n",
       "    </tr>\n",
       "    <tr>\n",
       "      <th>3</th>\n",
       "      <td>M</td>\n",
       "      <td>UpperMid</td>\n",
       "      <td>Normal</td>\n",
       "      <td>False</td>\n",
       "      <td>True</td>\n",
       "      <td>False</td>\n",
       "      <td>False</td>\n",
       "      <td>False</td>\n",
       "      <td>603.791429</td>\n",
       "      <td>False</td>\n",
       "      <td>...</td>\n",
       "      <td>False</td>\n",
       "      <td>False</td>\n",
       "      <td>0.000000</td>\n",
       "      <td>True</td>\n",
       "      <td>True</td>\n",
       "      <td>False</td>\n",
       "      <td>False</td>\n",
       "      <td>True</td>\n",
       "      <td>26</td>\n",
       "      <td>0</td>\n",
       "    </tr>\n",
       "    <tr>\n",
       "      <th>4</th>\n",
       "      <td>F</td>\n",
       "      <td>Older</td>\n",
       "      <td>Normal</td>\n",
       "      <td>False</td>\n",
       "      <td>False</td>\n",
       "      <td>False</td>\n",
       "      <td>False</td>\n",
       "      <td>False</td>\n",
       "      <td>0.000000</td>\n",
       "      <td>False</td>\n",
       "      <td>...</td>\n",
       "      <td>False</td>\n",
       "      <td>True</td>\n",
       "      <td>2.720000</td>\n",
       "      <td>False</td>\n",
       "      <td>False</td>\n",
       "      <td>False</td>\n",
       "      <td>False</td>\n",
       "      <td>False</td>\n",
       "      <td>0</td>\n",
       "      <td>0</td>\n",
       "    </tr>\n",
       "  </tbody>\n",
       "</table>\n",
       "<p>5 rows × 22 columns</p>\n",
       "</div>"
      ],
      "text/plain": [
       "  Gender   Age_Cat Ten_Cat  Saving_Amount  Current_Amount  \\\n",
       "0      M  UpperMid  Normal          False           False   \n",
       "1      F     Older  Normal          False           False   \n",
       "2      M  UpperMid  Normal           True           False   \n",
       "3      M  UpperMid  Normal          False            True   \n",
       "4      F     Older  Normal          False           False   \n",
       "\n",
       "   Time_Deposits_Amount  Funds_Amount  Stocks_Amount   Money_Sum  \\\n",
       "0                 False         False          False    0.000000   \n",
       "1                 False         False          False    0.000000   \n",
       "2                 False         False          False   18.825714   \n",
       "3                 False         False          False  603.791429   \n",
       "4                 False         False          False    0.000000   \n",
       "\n",
       "   Bank_Assurance_Amount  ...  Home_Loan_Amount  Consumer_Loan_Amount  \\\n",
       "0                   True  ...              True                 False   \n",
       "1                  False  ...             False                  True   \n",
       "2                  False  ...             False                 False   \n",
       "3                  False  ...             False                 False   \n",
       "4                  False  ...             False                  True   \n",
       "\n",
       "       Loan_sum  Branch_Transactions  ATM_Transactions  Phone_Transactions  \\\n",
       "0  20044.611429                False             False               False   \n",
       "1   2430.224286                 True              True               False   \n",
       "2      0.000000                False             False               False   \n",
       "3      0.000000                 True              True               False   \n",
       "4      2.720000                False             False               False   \n",
       "\n",
       "   Internet_Transactions  Standing_Orders  Trans_sum  New_Credit_Card_Flag  \n",
       "0                  False            False          0                     0  \n",
       "1                  False            False          7                     0  \n",
       "2                  False            False          0                     0  \n",
       "3                  False             True         26                     0  \n",
       "4                  False            False          0                     0  \n",
       "\n",
       "[5 rows x 22 columns]"
      ]
     },
     "execution_count": 211,
     "metadata": {},
     "output_type": "execute_result"
    }
   ],
   "source": [
    "#nahrani knihoven\n",
    "import pandas as pd\n",
    "import numpy as np\n",
    "from sklearn.decomposition import TruncatedSVD\n",
    "from sklearn.metrics import mean_squared_error\n",
    "from sklearn.linear_model import LinearRegression\n",
    "from sklearn.ensemble import RandomForestRegressor\n",
    "from sklearn.pipeline import Pipeline\n",
    "from keras import Sequential\n",
    "from keras import layers\n",
    "from tensorflow.keras.layers import Dense\n",
    "from sklearn.model_selection import train_test_split\n",
    "import tensorflow as tf\n",
    "import os\n",
    "import collections\n",
    "from sklearn import *\n",
    "\n",
    "df = pd.read_csv('ReadyBanking.csv', sep=';', index_col=0)\n",
    "df.head(5)"
   ]
  },
  {
   "cell_type": "code",
   "execution_count": 212,
   "id": "e01912cc",
   "metadata": {},
   "outputs": [],
   "source": [
    "objList = df.select_dtypes(include = \"object\").columns"
   ]
  },
  {
   "cell_type": "code",
   "execution_count": null,
   "id": "65b9e6d6",
   "metadata": {},
   "outputs": [],
   "source": []
  },
  {
   "cell_type": "code",
   "execution_count": 216,
   "id": "1aa73661",
   "metadata": {},
   "outputs": [],
   "source": [
    "boList = df.select_dtypes(include = \"bool\").columns"
   ]
  },
  {
   "cell_type": "code",
   "execution_count": 217,
   "id": "384e22a4",
   "metadata": {},
   "outputs": [
    {
     "data": {
      "text/plain": [
       "Index(['Saving_Amount', 'Current_Amount', 'Time_Deposits_Amount',\n",
       "       'Funds_Amount', 'Stocks_Amount', 'Bank_Assurance_Amount',\n",
       "       'Life_Assurance_Amount', 'Business_Loan_Amount', 'Home_Loan_Amount',\n",
       "       'Consumer_Loan_Amount', 'Branch_Transactions', 'ATM_Transactions',\n",
       "       'Phone_Transactions', 'Internet_Transactions', 'Standing_Orders'],\n",
       "      dtype='object')"
      ]
     },
     "execution_count": 217,
     "metadata": {},
     "output_type": "execute_result"
    }
   ],
   "source": [
    "boList"
   ]
  },
  {
   "cell_type": "code",
   "execution_count": 218,
   "id": "824d8df7",
   "metadata": {},
   "outputs": [],
   "source": [
    "from sklearn import preprocessing\n",
    "from sklearn.preprocessing import LabelEncoder\n",
    "\n",
    "\n",
    "le = preprocessing.LabelEncoder()\n",
    "\n",
    "for feat in objList:\n",
    "    df[feat] = le.fit_transform(df[feat].astype(str))\n",
    "\n",
    "#le.fit(df['Gender'])\n",
    "#lrDf['Gender']=le.transform(lrDf['Gender'])\n",
    "\n",
    "\n",
    "#le.fit(lrDf['Age_Cat'])\n",
    "#lrDf['Age_Cat']=le.transform(lrDf['Age_Cat'])\n",
    "\n",
    "#le.fit(lrDf['Ten_Cat'])\n",
    "#lrDf['Ten_Cat']=le.transform(lrDf['Ten_Cat'])\n",
    "\n",
    "\n",
    "\n",
    "#lrDf.head()"
   ]
  },
  {
   "cell_type": "code",
   "execution_count": 219,
   "id": "8a2d31af",
   "metadata": {},
   "outputs": [],
   "source": [
    "for feat in boList:\n",
    "    df[feat] = le.fit_transform(df[feat].astype(str))"
   ]
  },
  {
   "cell_type": "code",
   "execution_count": 220,
   "id": "740a823e",
   "metadata": {},
   "outputs": [],
   "source": [
    "#Split na featury a cilovou promennou\n",
    "X = df.drop(['New_Credit_Card_Flag'], axis=1)\n",
    "y = df['New_Credit_Card_Flag']\n",
    "\n"
   ]
  },
  {
   "cell_type": "code",
   "execution_count": 168,
   "id": "c3dd8f48",
   "metadata": {},
   "outputs": [
    {
     "data": {
      "text/plain": [
       "0         0\n",
       "1         0\n",
       "2         0\n",
       "3         0\n",
       "4         0\n",
       "         ..\n",
       "104728    0\n",
       "104729    0\n",
       "104730    0\n",
       "104731    0\n",
       "104732    0\n",
       "Name: New_Credit_Card_Flag, Length: 104733, dtype: int64"
      ]
     },
     "execution_count": 168,
     "metadata": {},
     "output_type": "execute_result"
    }
   ],
   "source": [
    "y"
   ]
  },
  {
   "cell_type": "code",
   "execution_count": 221,
   "id": "61c50534",
   "metadata": {},
   "outputs": [
    {
     "data": {
      "text/html": [
       "<div>\n",
       "<style scoped>\n",
       "    .dataframe tbody tr th:only-of-type {\n",
       "        vertical-align: middle;\n",
       "    }\n",
       "\n",
       "    .dataframe tbody tr th {\n",
       "        vertical-align: top;\n",
       "    }\n",
       "\n",
       "    .dataframe thead th {\n",
       "        text-align: right;\n",
       "    }\n",
       "</style>\n",
       "<table border=\"1\" class=\"dataframe\">\n",
       "  <thead>\n",
       "    <tr style=\"text-align: right;\">\n",
       "      <th></th>\n",
       "      <th>Gender</th>\n",
       "      <th>Age_Cat</th>\n",
       "      <th>Ten_Cat</th>\n",
       "      <th>Saving_Amount</th>\n",
       "      <th>Current_Amount</th>\n",
       "      <th>Time_Deposits_Amount</th>\n",
       "      <th>Funds_Amount</th>\n",
       "      <th>Stocks_Amount</th>\n",
       "      <th>Money_Sum</th>\n",
       "      <th>Bank_Assurance_Amount</th>\n",
       "      <th>...</th>\n",
       "      <th>Business_Loan_Amount</th>\n",
       "      <th>Home_Loan_Amount</th>\n",
       "      <th>Consumer_Loan_Amount</th>\n",
       "      <th>Loan_sum</th>\n",
       "      <th>Branch_Transactions</th>\n",
       "      <th>ATM_Transactions</th>\n",
       "      <th>Phone_Transactions</th>\n",
       "      <th>Internet_Transactions</th>\n",
       "      <th>Standing_Orders</th>\n",
       "      <th>Trans_sum</th>\n",
       "    </tr>\n",
       "  </thead>\n",
       "  <tbody>\n",
       "    <tr>\n",
       "      <th>0</th>\n",
       "      <td>1</td>\n",
       "      <td>2</td>\n",
       "      <td>2</td>\n",
       "      <td>0</td>\n",
       "      <td>0</td>\n",
       "      <td>0</td>\n",
       "      <td>0</td>\n",
       "      <td>0</td>\n",
       "      <td>0.000000</td>\n",
       "      <td>1</td>\n",
       "      <td>...</td>\n",
       "      <td>0</td>\n",
       "      <td>1</td>\n",
       "      <td>0</td>\n",
       "      <td>20044.611429</td>\n",
       "      <td>0</td>\n",
       "      <td>0</td>\n",
       "      <td>0</td>\n",
       "      <td>0</td>\n",
       "      <td>0</td>\n",
       "      <td>0</td>\n",
       "    </tr>\n",
       "    <tr>\n",
       "      <th>1</th>\n",
       "      <td>0</td>\n",
       "      <td>1</td>\n",
       "      <td>2</td>\n",
       "      <td>0</td>\n",
       "      <td>0</td>\n",
       "      <td>0</td>\n",
       "      <td>0</td>\n",
       "      <td>0</td>\n",
       "      <td>0.000000</td>\n",
       "      <td>0</td>\n",
       "      <td>...</td>\n",
       "      <td>0</td>\n",
       "      <td>0</td>\n",
       "      <td>1</td>\n",
       "      <td>2430.224286</td>\n",
       "      <td>1</td>\n",
       "      <td>1</td>\n",
       "      <td>0</td>\n",
       "      <td>0</td>\n",
       "      <td>0</td>\n",
       "      <td>7</td>\n",
       "    </tr>\n",
       "    <tr>\n",
       "      <th>2</th>\n",
       "      <td>1</td>\n",
       "      <td>2</td>\n",
       "      <td>2</td>\n",
       "      <td>1</td>\n",
       "      <td>0</td>\n",
       "      <td>0</td>\n",
       "      <td>0</td>\n",
       "      <td>0</td>\n",
       "      <td>18.825714</td>\n",
       "      <td>0</td>\n",
       "      <td>...</td>\n",
       "      <td>0</td>\n",
       "      <td>0</td>\n",
       "      <td>0</td>\n",
       "      <td>0.000000</td>\n",
       "      <td>0</td>\n",
       "      <td>0</td>\n",
       "      <td>0</td>\n",
       "      <td>0</td>\n",
       "      <td>0</td>\n",
       "      <td>0</td>\n",
       "    </tr>\n",
       "    <tr>\n",
       "      <th>3</th>\n",
       "      <td>1</td>\n",
       "      <td>2</td>\n",
       "      <td>2</td>\n",
       "      <td>0</td>\n",
       "      <td>1</td>\n",
       "      <td>0</td>\n",
       "      <td>0</td>\n",
       "      <td>0</td>\n",
       "      <td>603.791429</td>\n",
       "      <td>0</td>\n",
       "      <td>...</td>\n",
       "      <td>0</td>\n",
       "      <td>0</td>\n",
       "      <td>0</td>\n",
       "      <td>0.000000</td>\n",
       "      <td>1</td>\n",
       "      <td>1</td>\n",
       "      <td>0</td>\n",
       "      <td>0</td>\n",
       "      <td>1</td>\n",
       "      <td>26</td>\n",
       "    </tr>\n",
       "    <tr>\n",
       "      <th>4</th>\n",
       "      <td>0</td>\n",
       "      <td>1</td>\n",
       "      <td>2</td>\n",
       "      <td>0</td>\n",
       "      <td>0</td>\n",
       "      <td>0</td>\n",
       "      <td>0</td>\n",
       "      <td>0</td>\n",
       "      <td>0.000000</td>\n",
       "      <td>0</td>\n",
       "      <td>...</td>\n",
       "      <td>0</td>\n",
       "      <td>0</td>\n",
       "      <td>1</td>\n",
       "      <td>2.720000</td>\n",
       "      <td>0</td>\n",
       "      <td>0</td>\n",
       "      <td>0</td>\n",
       "      <td>0</td>\n",
       "      <td>0</td>\n",
       "      <td>0</td>\n",
       "    </tr>\n",
       "    <tr>\n",
       "      <th>...</th>\n",
       "      <td>...</td>\n",
       "      <td>...</td>\n",
       "      <td>...</td>\n",
       "      <td>...</td>\n",
       "      <td>...</td>\n",
       "      <td>...</td>\n",
       "      <td>...</td>\n",
       "      <td>...</td>\n",
       "      <td>...</td>\n",
       "      <td>...</td>\n",
       "      <td>...</td>\n",
       "      <td>...</td>\n",
       "      <td>...</td>\n",
       "      <td>...</td>\n",
       "      <td>...</td>\n",
       "      <td>...</td>\n",
       "      <td>...</td>\n",
       "      <td>...</td>\n",
       "      <td>...</td>\n",
       "      <td>...</td>\n",
       "      <td>...</td>\n",
       "    </tr>\n",
       "    <tr>\n",
       "      <th>104728</th>\n",
       "      <td>1</td>\n",
       "      <td>2</td>\n",
       "      <td>0</td>\n",
       "      <td>1</td>\n",
       "      <td>0</td>\n",
       "      <td>0</td>\n",
       "      <td>0</td>\n",
       "      <td>0</td>\n",
       "      <td>112.900000</td>\n",
       "      <td>0</td>\n",
       "      <td>...</td>\n",
       "      <td>0</td>\n",
       "      <td>0</td>\n",
       "      <td>0</td>\n",
       "      <td>0.000000</td>\n",
       "      <td>1</td>\n",
       "      <td>0</td>\n",
       "      <td>0</td>\n",
       "      <td>0</td>\n",
       "      <td>0</td>\n",
       "      <td>1</td>\n",
       "    </tr>\n",
       "    <tr>\n",
       "      <th>104729</th>\n",
       "      <td>0</td>\n",
       "      <td>1</td>\n",
       "      <td>0</td>\n",
       "      <td>1</td>\n",
       "      <td>0</td>\n",
       "      <td>0</td>\n",
       "      <td>0</td>\n",
       "      <td>0</td>\n",
       "      <td>16.130000</td>\n",
       "      <td>0</td>\n",
       "      <td>...</td>\n",
       "      <td>0</td>\n",
       "      <td>0</td>\n",
       "      <td>0</td>\n",
       "      <td>0.000000</td>\n",
       "      <td>1</td>\n",
       "      <td>0</td>\n",
       "      <td>0</td>\n",
       "      <td>0</td>\n",
       "      <td>0</td>\n",
       "      <td>1</td>\n",
       "    </tr>\n",
       "    <tr>\n",
       "      <th>104730</th>\n",
       "      <td>1</td>\n",
       "      <td>3</td>\n",
       "      <td>0</td>\n",
       "      <td>0</td>\n",
       "      <td>0</td>\n",
       "      <td>0</td>\n",
       "      <td>0</td>\n",
       "      <td>0</td>\n",
       "      <td>0.000000</td>\n",
       "      <td>0</td>\n",
       "      <td>...</td>\n",
       "      <td>0</td>\n",
       "      <td>0</td>\n",
       "      <td>1</td>\n",
       "      <td>129.030000</td>\n",
       "      <td>0</td>\n",
       "      <td>0</td>\n",
       "      <td>0</td>\n",
       "      <td>0</td>\n",
       "      <td>0</td>\n",
       "      <td>0</td>\n",
       "    </tr>\n",
       "    <tr>\n",
       "      <th>104731</th>\n",
       "      <td>1</td>\n",
       "      <td>0</td>\n",
       "      <td>0</td>\n",
       "      <td>0</td>\n",
       "      <td>0</td>\n",
       "      <td>0</td>\n",
       "      <td>0</td>\n",
       "      <td>0</td>\n",
       "      <td>0.000000</td>\n",
       "      <td>0</td>\n",
       "      <td>...</td>\n",
       "      <td>0</td>\n",
       "      <td>0</td>\n",
       "      <td>1</td>\n",
       "      <td>807.740000</td>\n",
       "      <td>0</td>\n",
       "      <td>0</td>\n",
       "      <td>0</td>\n",
       "      <td>0</td>\n",
       "      <td>0</td>\n",
       "      <td>0</td>\n",
       "    </tr>\n",
       "    <tr>\n",
       "      <th>104732</th>\n",
       "      <td>1</td>\n",
       "      <td>1</td>\n",
       "      <td>0</td>\n",
       "      <td>0</td>\n",
       "      <td>0</td>\n",
       "      <td>0</td>\n",
       "      <td>0</td>\n",
       "      <td>0</td>\n",
       "      <td>0.000000</td>\n",
       "      <td>0</td>\n",
       "      <td>...</td>\n",
       "      <td>0</td>\n",
       "      <td>0</td>\n",
       "      <td>1</td>\n",
       "      <td>235.420000</td>\n",
       "      <td>0</td>\n",
       "      <td>0</td>\n",
       "      <td>0</td>\n",
       "      <td>0</td>\n",
       "      <td>0</td>\n",
       "      <td>0</td>\n",
       "    </tr>\n",
       "  </tbody>\n",
       "</table>\n",
       "<p>104733 rows × 21 columns</p>\n",
       "</div>"
      ],
      "text/plain": [
       "        Gender  Age_Cat  Ten_Cat  Saving_Amount  Current_Amount  \\\n",
       "0            1        2        2              0               0   \n",
       "1            0        1        2              0               0   \n",
       "2            1        2        2              1               0   \n",
       "3            1        2        2              0               1   \n",
       "4            0        1        2              0               0   \n",
       "...        ...      ...      ...            ...             ...   \n",
       "104728       1        2        0              1               0   \n",
       "104729       0        1        0              1               0   \n",
       "104730       1        3        0              0               0   \n",
       "104731       1        0        0              0               0   \n",
       "104732       1        1        0              0               0   \n",
       "\n",
       "        Time_Deposits_Amount  Funds_Amount  Stocks_Amount   Money_Sum  \\\n",
       "0                          0             0              0    0.000000   \n",
       "1                          0             0              0    0.000000   \n",
       "2                          0             0              0   18.825714   \n",
       "3                          0             0              0  603.791429   \n",
       "4                          0             0              0    0.000000   \n",
       "...                      ...           ...            ...         ...   \n",
       "104728                     0             0              0  112.900000   \n",
       "104729                     0             0              0   16.130000   \n",
       "104730                     0             0              0    0.000000   \n",
       "104731                     0             0              0    0.000000   \n",
       "104732                     0             0              0    0.000000   \n",
       "\n",
       "        Bank_Assurance_Amount  ...  Business_Loan_Amount  Home_Loan_Amount  \\\n",
       "0                           1  ...                     0                 1   \n",
       "1                           0  ...                     0                 0   \n",
       "2                           0  ...                     0                 0   \n",
       "3                           0  ...                     0                 0   \n",
       "4                           0  ...                     0                 0   \n",
       "...                       ...  ...                   ...               ...   \n",
       "104728                      0  ...                     0                 0   \n",
       "104729                      0  ...                     0                 0   \n",
       "104730                      0  ...                     0                 0   \n",
       "104731                      0  ...                     0                 0   \n",
       "104732                      0  ...                     0                 0   \n",
       "\n",
       "        Consumer_Loan_Amount      Loan_sum  Branch_Transactions  \\\n",
       "0                          0  20044.611429                    0   \n",
       "1                          1   2430.224286                    1   \n",
       "2                          0      0.000000                    0   \n",
       "3                          0      0.000000                    1   \n",
       "4                          1      2.720000                    0   \n",
       "...                      ...           ...                  ...   \n",
       "104728                     0      0.000000                    1   \n",
       "104729                     0      0.000000                    1   \n",
       "104730                     1    129.030000                    0   \n",
       "104731                     1    807.740000                    0   \n",
       "104732                     1    235.420000                    0   \n",
       "\n",
       "        ATM_Transactions  Phone_Transactions  Internet_Transactions  \\\n",
       "0                      0                   0                      0   \n",
       "1                      1                   0                      0   \n",
       "2                      0                   0                      0   \n",
       "3                      1                   0                      0   \n",
       "4                      0                   0                      0   \n",
       "...                  ...                 ...                    ...   \n",
       "104728                 0                   0                      0   \n",
       "104729                 0                   0                      0   \n",
       "104730                 0                   0                      0   \n",
       "104731                 0                   0                      0   \n",
       "104732                 0                   0                      0   \n",
       "\n",
       "        Standing_Orders  Trans_sum  \n",
       "0                     0          0  \n",
       "1                     0          7  \n",
       "2                     0          0  \n",
       "3                     1         26  \n",
       "4                     0          0  \n",
       "...                 ...        ...  \n",
       "104728                0          1  \n",
       "104729                0          1  \n",
       "104730                0          0  \n",
       "104731                0          0  \n",
       "104732                0          0  \n",
       "\n",
       "[104733 rows x 21 columns]"
      ]
     },
     "execution_count": 221,
     "metadata": {},
     "output_type": "execute_result"
    }
   ],
   "source": [
    "#y.drop(y.tail(2).index, inplace=True)\n",
    "X"
   ]
  },
  {
   "cell_type": "code",
   "execution_count": 222,
   "id": "0e2eb281",
   "metadata": {},
   "outputs": [],
   "source": [
    "#Split na trenovaci a testovaci data\n",
    "X_train, X_test, y_train, y_test = train_test_split(X, y, test_size=0.2, random_state=101)"
   ]
  },
  {
   "cell_type": "code",
   "execution_count": 223,
   "id": "14546b72",
   "metadata": {},
   "outputs": [],
   "source": [
    "#nacteni Scaleru -> prekoduje aby mean sloupcu byl 0 a std 1\n",
    "from sklearn.preprocessing import StandardScaler\n",
    "scaler = StandardScaler()\n",
    "train_scaled = scaler.fit_transform(X_train)\n",
    "test_scaled = scaler.transform(X_test)"
   ]
  },
  {
   "cell_type": "code",
   "execution_count": 224,
   "id": "0e205f86",
   "metadata": {},
   "outputs": [
    {
     "data": {
      "text/plain": [
       "array([[-1.20476554, -0.49192868,  1.38158404, ..., -0.09381576,\n",
       "        -0.20309289, -0.54987033],\n",
       "       [ 0.83003702,  0.40299785, -0.42574161, ..., -0.09381576,\n",
       "        -0.20309289,  1.69457892],\n",
       "       [-1.20476554,  1.29792439,  0.47792122, ..., -0.09381576,\n",
       "        -0.20309289, -0.17579546],\n",
       "       ...,\n",
       "       [ 0.83003702, -1.38685522, -1.32940444, ..., -0.09381576,\n",
       "        -0.20309289, -0.54987033],\n",
       "       [-1.20476554, -1.38685522, -1.32940444, ..., -0.09381576,\n",
       "        -0.20309289, -0.3628329 ],\n",
       "       [-1.20476554,  1.29792439,  0.47792122, ..., -0.09381576,\n",
       "        -0.20309289, -0.54987033]])"
      ]
     },
     "execution_count": 224,
     "metadata": {},
     "output_type": "execute_result"
    }
   ],
   "source": [
    "train_scaled"
   ]
  },
  {
   "cell_type": "code",
   "execution_count": 225,
   "id": "9cc7da5b",
   "metadata": {},
   "outputs": [
    {
     "name": "stderr",
     "output_type": "stream",
     "text": [
      "C:\\Users\\mates\\anaconda3\\lib\\site-packages\\sklearn\\neural_network\\_multilayer_perceptron.py:614: ConvergenceWarning: Stochastic Optimizer: Maximum iterations (100) reached and the optimization hasn't converged yet.\n",
      "  warnings.warn(\n"
     ]
    },
    {
     "data": {
      "text/plain": [
       "GridSearchCV(cv=3, estimator=MLPClassifier(max_iter=100), n_jobs=-1,\n",
       "             param_grid={'activation': ['tanh', 'relu'],\n",
       "                         'alpha': [0.0001, 0.05],\n",
       "                         'hidden_layer_sizes': [(50, 50, 50), (50, 100, 50),\n",
       "                                                (100,)],\n",
       "                         'learning_rate': ['constant', 'adaptive'],\n",
       "                         'solver': ['sgd', 'adam']})"
      ]
     },
     "execution_count": 225,
     "metadata": {},
     "output_type": "execute_result"
    }
   ],
   "source": [
    "#jednoducha neuronova sit a jeji natrenovani\n",
    "from sklearn.neural_network import MLPClassifier\n",
    "from sklearn.model_selection import GridSearchCV\n",
    "model = MLPClassifier(max_iter=100)\n",
    "#specifikace parametru\n",
    "parameter_space = {\n",
    "    'hidden_layer_sizes': [(50,50,50), (50,100,50), (100,)],\n",
    "    'activation': ['tanh', 'relu'],\n",
    "    'solver': ['sgd', 'adam'],\n",
    "    'alpha': [0.0001, 0.05],\n",
    "    'learning_rate': ['constant','adaptive'],\n",
    "}\n",
    "#nalezeni nejlepsich parametru\n",
    "clf = GridSearchCV(model, parameter_space, n_jobs=-1, cv=3)\n",
    "#trenovani\n",
    "clf.fit(train_scaled, y_train)"
   ]
  },
  {
   "cell_type": "code",
   "execution_count": 226,
   "id": "27b1895c",
   "metadata": {},
   "outputs": [],
   "source": [
    "#predikce\n",
    "mlp_pred = clf.predict(test_scaled)"
   ]
  },
  {
   "cell_type": "code",
   "execution_count": 227,
   "id": "a71413a8",
   "metadata": {},
   "outputs": [
    {
     "data": {
      "text/plain": [
       "0.9589917410607725"
      ]
     },
     "execution_count": 227,
     "metadata": {},
     "output_type": "execute_result"
    }
   ],
   "source": [
    "from sklearn.metrics import accuracy_score\n",
    "accuracy_score(y_test, mlp_pred)"
   ]
  },
  {
   "cell_type": "code",
   "execution_count": 228,
   "id": "8de8056b",
   "metadata": {},
   "outputs": [
    {
     "data": {
      "image/png": "[encoded data removed]",
      "text/plain": [
       "<Figure size 432x288 with 2 Axes>"
      ]
     },
     "metadata": {
      "needs_background": "light"
     },
     "output_type": "display_data"
    }
   ],
   "source": [
    "#confusion matice\n",
    "\n",
    "disp = plot_confusion_matrix(clf, test_scaled, y_test,                                            \n",
    "                                 cmap=plt.cm.Blues)\n",
    "\n",
    "plt.show()"
   ]
  },
  {
   "cell_type": "code",
   "execution_count": 181,
   "id": "207d2be4",
   "metadata": {},
   "outputs": [
    {
     "data": {
      "text/html": [
       "<div>\n",
       "<style scoped>\n",
       "    .dataframe tbody tr th:only-of-type {\n",
       "        vertical-align: middle;\n",
       "    }\n",
       "\n",
       "    .dataframe tbody tr th {\n",
       "        vertical-align: top;\n",
       "    }\n",
       "\n",
       "    .dataframe thead th {\n",
       "        text-align: right;\n",
       "    }\n",
       "</style>\n",
       "<table border=\"1\" class=\"dataframe\">\n",
       "  <thead>\n",
       "    <tr style=\"text-align: right;\">\n",
       "      <th></th>\n",
       "      <th>ActualValues</th>\n",
       "      <th>PredictedValues</th>\n",
       "    </tr>\n",
       "  </thead>\n",
       "  <tbody>\n",
       "    <tr>\n",
       "      <th>0</th>\n",
       "      <td>0</td>\n",
       "      <td>0</td>\n",
       "    </tr>\n",
       "    <tr>\n",
       "      <th>1</th>\n",
       "      <td>0</td>\n",
       "      <td>0</td>\n",
       "    </tr>\n",
       "    <tr>\n",
       "      <th>2</th>\n",
       "      <td>0</td>\n",
       "      <td>0</td>\n",
       "    </tr>\n",
       "    <tr>\n",
       "      <th>3</th>\n",
       "      <td>0</td>\n",
       "      <td>0</td>\n",
       "    </tr>\n",
       "    <tr>\n",
       "      <th>4</th>\n",
       "      <td>0</td>\n",
       "      <td>0</td>\n",
       "    </tr>\n",
       "    <tr>\n",
       "      <th>5</th>\n",
       "      <td>0</td>\n",
       "      <td>0</td>\n",
       "    </tr>\n",
       "    <tr>\n",
       "      <th>6</th>\n",
       "      <td>1</td>\n",
       "      <td>0</td>\n",
       "    </tr>\n",
       "    <tr>\n",
       "      <th>7</th>\n",
       "      <td>0</td>\n",
       "      <td>0</td>\n",
       "    </tr>\n",
       "    <tr>\n",
       "      <th>8</th>\n",
       "      <td>1</td>\n",
       "      <td>0</td>\n",
       "    </tr>\n",
       "    <tr>\n",
       "      <th>9</th>\n",
       "      <td>0</td>\n",
       "      <td>0</td>\n",
       "    </tr>\n",
       "    <tr>\n",
       "      <th>10</th>\n",
       "      <td>1</td>\n",
       "      <td>1</td>\n",
       "    </tr>\n",
       "    <tr>\n",
       "      <th>11</th>\n",
       "      <td>0</td>\n",
       "      <td>0</td>\n",
       "    </tr>\n",
       "    <tr>\n",
       "      <th>12</th>\n",
       "      <td>0</td>\n",
       "      <td>0</td>\n",
       "    </tr>\n",
       "    <tr>\n",
       "      <th>13</th>\n",
       "      <td>0</td>\n",
       "      <td>0</td>\n",
       "    </tr>\n",
       "    <tr>\n",
       "      <th>14</th>\n",
       "      <td>0</td>\n",
       "      <td>0</td>\n",
       "    </tr>\n",
       "    <tr>\n",
       "      <th>15</th>\n",
       "      <td>0</td>\n",
       "      <td>0</td>\n",
       "    </tr>\n",
       "    <tr>\n",
       "      <th>16</th>\n",
       "      <td>0</td>\n",
       "      <td>0</td>\n",
       "    </tr>\n",
       "    <tr>\n",
       "      <th>17</th>\n",
       "      <td>0</td>\n",
       "      <td>0</td>\n",
       "    </tr>\n",
       "    <tr>\n",
       "      <th>18</th>\n",
       "      <td>0</td>\n",
       "      <td>0</td>\n",
       "    </tr>\n",
       "    <tr>\n",
       "      <th>19</th>\n",
       "      <td>1</td>\n",
       "      <td>1</td>\n",
       "    </tr>\n",
       "    <tr>\n",
       "      <th>20</th>\n",
       "      <td>0</td>\n",
       "      <td>0</td>\n",
       "    </tr>\n",
       "    <tr>\n",
       "      <th>21</th>\n",
       "      <td>0</td>\n",
       "      <td>0</td>\n",
       "    </tr>\n",
       "    <tr>\n",
       "      <th>22</th>\n",
       "      <td>0</td>\n",
       "      <td>0</td>\n",
       "    </tr>\n",
       "    <tr>\n",
       "      <th>23</th>\n",
       "      <td>0</td>\n",
       "      <td>0</td>\n",
       "    </tr>\n",
       "    <tr>\n",
       "      <th>24</th>\n",
       "      <td>0</td>\n",
       "      <td>0</td>\n",
       "    </tr>\n",
       "    <tr>\n",
       "      <th>25</th>\n",
       "      <td>0</td>\n",
       "      <td>0</td>\n",
       "    </tr>\n",
       "    <tr>\n",
       "      <th>26</th>\n",
       "      <td>0</td>\n",
       "      <td>0</td>\n",
       "    </tr>\n",
       "    <tr>\n",
       "      <th>27</th>\n",
       "      <td>0</td>\n",
       "      <td>0</td>\n",
       "    </tr>\n",
       "    <tr>\n",
       "      <th>28</th>\n",
       "      <td>0</td>\n",
       "      <td>0</td>\n",
       "    </tr>\n",
       "    <tr>\n",
       "      <th>29</th>\n",
       "      <td>0</td>\n",
       "      <td>0</td>\n",
       "    </tr>\n",
       "  </tbody>\n",
       "</table>\n",
       "</div>"
      ],
      "text/plain": [
       "    ActualValues  PredictedValues\n",
       "0              0                0\n",
       "1              0                0\n",
       "2              0                0\n",
       "3              0                0\n",
       "4              0                0\n",
       "5              0                0\n",
       "6              1                0\n",
       "7              0                0\n",
       "8              1                0\n",
       "9              0                0\n",
       "10             1                1\n",
       "11             0                0\n",
       "12             0                0\n",
       "13             0                0\n",
       "14             0                0\n",
       "15             0                0\n",
       "16             0                0\n",
       "17             0                0\n",
       "18             0                0\n",
       "19             1                1\n",
       "20             0                0\n",
       "21             0                0\n",
       "22             0                0\n",
       "23             0                0\n",
       "24             0                0\n",
       "25             0                0\n",
       "26             0                0\n",
       "27             0                0\n",
       "28             0                0\n",
       "29             0                0"
      ]
     },
     "execution_count": 181,
     "metadata": {},
     "output_type": "execute_result"
    }
   ],
   "source": [
    "mlpPred = pd.DataFrame({\n",
    "        'ActualValues': np.array(y_test).flatten(),\n",
    "        'PredictedValues': mlp_pred})\n",
    "mlpPred.head(30)"
   ]
  },
  {
   "cell_type": "code",
   "execution_count": 229,
   "id": "53c738f4",
   "metadata": {},
   "outputs": [
    {
     "data": {
      "text/plain": [
       "0    20394\n",
       "1      553\n",
       "Name: PredictedValues, dtype: int64"
      ]
     },
     "execution_count": 229,
     "metadata": {},
     "output_type": "execute_result"
    }
   ],
   "source": [
    "mlpPred['PredictedValues'].value_counts() #well ,that's bad ->predikuje všechno jako False"
   ]
  },
  {
   "cell_type": "code",
   "execution_count": 230,
   "id": "9261c546",
   "metadata": {},
   "outputs": [],
   "source": [
    "from sklearn.feature_selection import RFE\n",
    "from sklearn.linear_model import LogisticRegression\n",
    "\n",
    "model = LogisticRegression(solver='liblinear', random_state=0).fit(X_train, y_train)\n",
    "y_pred = model.predict(X_test)"
   ]
  },
  {
   "cell_type": "code",
   "execution_count": 231,
   "id": "d0667eee",
   "metadata": {},
   "outputs": [
    {
     "name": "stdout",
     "output_type": "stream",
     "text": [
      "logRegScore : 94.73432949825751 %\n"
     ]
    }
   ],
   "source": [
    "logRegScore = accuracy_score(y_test, y_pred, normalize=True, sample_weight=None)\n",
    "print('logRegScore :', logRegScore*100,'%')"
   ]
  },
  {
   "cell_type": "code",
   "execution_count": 232,
   "id": "0586406b",
   "metadata": {},
   "outputs": [
    {
     "data": {
      "image/png": "[encoded data removed]",
      "text/plain": [
       "<Figure size 432x288 with 2 Axes>"
      ]
     },
     "metadata": {
      "needs_background": "light"
     },
     "output_type": "display_data"
    }
   ],
   "source": [
    "disp = plot_confusion_matrix(model, X_test, y_test,                                            \n",
    "                                 cmap=plt.cm.Blues)\n",
    "\n",
    "plt.show()"
   ]
  },
  {
   "cell_type": "code",
   "execution_count": 233,
   "id": "713c0680",
   "metadata": {},
   "outputs": [
    {
     "name": "stdout",
     "output_type": "stream",
     "text": [
      "Fitting 5 folds for each of 5 candidates, totalling 25 fits\n"
     ]
    },
    {
     "name": "stderr",
     "output_type": "stream",
     "text": [
      "C:\\Users\\mates\\anaconda3\\lib\\site-packages\\sklearn\\model_selection\\_search.py:918: UserWarning: One or more of the test scores are non-finite: [       nan 0.95749888 0.95525506 0.96001719        nan]\n",
      "  warnings.warn(\n",
      "C:\\Users\\mates\\anaconda3\\lib\\site-packages\\xgboost\\sklearn.py:888: UserWarning: The use of label encoder in XGBClassifier is deprecated and will be removed in a future release. To remove this warning, do the following: 1) Pass option use_label_encoder=False when constructing XGBClassifier object; and 2) Encode your labels (y) as integers starting with 0, i.e. 0, 1, 2, ..., [num_class - 1].\n",
      "  warnings.warn(label_encoder_deprecation_msg, UserWarning)\n"
     ]
    },
    {
     "name": "stdout",
     "output_type": "stream",
     "text": [
      "[11:50:36] WARNING: ..\\src\\learner.cc:1061: Starting in XGBoost 1.3.0, the default evaluation metric used with the objective 'binary:logistic' was changed from 'error' to 'logloss'. Explicitly set eval_metric if you'd like to restore the old behavior.\n"
     ]
    }
   ],
   "source": [
    "#Gradient boosted deTrees, nejlepsi model, jen trva dlouho pri hodne datech\n",
    "from xgboost import XGBClassifier\n",
    "from sklearn.model_selection import RandomizedSearchCV\n",
    "from scipy import stats\n",
    "#vypis parametru\n",
    "params = {\n",
    "        'n_estimators': stats.randint(150, 1000),\n",
    "        'learning_rate': stats.uniform(0.01, 0.6),\n",
    "        'min_child_weight': [1, 5, 10],\n",
    "        'gamma': [0.5, 1, 1.5, 2, 5],\n",
    "        'subsample': [0.6, 0.8, 1.0,2],\n",
    "        'colsample_bytree': [0.6, 0.8, 1.0],\n",
    "        'max_depth': [6,7,8,9,10]\n",
    "        \n",
    "        }\n",
    "xgb = XGBClassifier()\n",
    "#vyber nejlepsich parametru\n",
    "rs = RandomizedSearchCV(xgb, param_distributions=params, n_iter=5, n_jobs=4, cv=5, verbose=3, random_state=1001 )\n",
    "#trenovani\n",
    "rs.fit(train_scaled, y_train)\n",
    "\n",
    "#predikce\n",
    "y_pred = rs.best_estimator_.predict(test_scaled)\n"
   ]
  },
  {
   "cell_type": "code",
   "execution_count": 234,
   "id": "95ad437d",
   "metadata": {},
   "outputs": [
    {
     "data": {
      "text/plain": [
       "0.9600420107891345"
      ]
     },
     "execution_count": 234,
     "metadata": {},
     "output_type": "execute_result"
    }
   ],
   "source": [
    "accuracy_score(y_test, y_pred)"
   ]
  },
  {
   "cell_type": "code",
   "execution_count": 236,
   "id": "47625a1f",
   "metadata": {},
   "outputs": [
    {
     "data": {
      "image/png": "[encoded data removed]",
      "text/plain": [
       "<Figure size 432x288 with 2 Axes>"
      ]
     },
     "metadata": {
      "needs_background": "light"
     },
     "output_type": "display_data"
    }
   ],
   "source": [
    "disp = plot_confusion_matrix(rs.best_estimator_, test_scaled, y_test,                                            \n",
    "                                 cmap=plt.cm.Blues)\n",
    "\n",
    "plt.show()\n",
    "#tady můžeme vidět, model je ve výsledku přesný, ale predikuje akorát tak hodnoty False, takže je k ničemu\n"
   ]
  },
  {
   "cell_type": "markdown",
   "id": "ec636f88",
   "metadata": {},
   "source": [
    "## Modely s vybalancovanou cílovou promennou"
   ]
  },
  {
   "cell_type": "code",
   "execution_count": 35,
   "id": "f05cb158",
   "metadata": {},
   "outputs": [],
   "source": [
    "#proto teď zkusíme vyřešit situaci imbalanced class pomocí oversamplingu i undersamplingu"
   ]
  },
  {
   "cell_type": "code",
   "execution_count": 237,
   "id": "cd8d1220",
   "metadata": {},
   "outputs": [],
   "source": [
    "#reseni celeho problemu nevybalancovaneho datasetu \n",
    "#Nasampluje hodnoty s vyslednou promennou True a vemi podobnymi hodnoty aktualnim hodnotam s koncovou promennou True\n",
    "from imblearn.over_sampling import RandomOverSampler\n",
    "\n",
    "ros = RandomOverSampler(sampling_strategy = \"not majority\")\n",
    "\n",
    "X_res, y_res = ros.fit_resample(X,y)"
   ]
  },
  {
   "cell_type": "code",
   "execution_count": null,
   "id": "2b751d78",
   "metadata": {},
   "outputs": [],
   "source": []
  },
  {
   "cell_type": "code",
   "execution_count": 238,
   "id": "89f01809",
   "metadata": {},
   "outputs": [
    {
     "data": {
      "text/plain": [
       "0    98933\n",
       "1    98933\n",
       "Name: New_Credit_Card_Flag, dtype: int64"
      ]
     },
     "execution_count": 238,
     "metadata": {},
     "output_type": "execute_result"
    }
   ],
   "source": [
    "#Nyní jsou hodnoty vyrovnané\n",
    "y_res.value_counts()"
   ]
  },
  {
   "cell_type": "code",
   "execution_count": 239,
   "id": "0b307002",
   "metadata": {},
   "outputs": [],
   "source": [
    "#A teď vše znovu\n",
    "X_train, X_test, y_train, y_test = train_test_split(X_res, y_res, test_size=0.2, random_state=101)"
   ]
  },
  {
   "cell_type": "code",
   "execution_count": 240,
   "id": "ffad9ba4",
   "metadata": {},
   "outputs": [],
   "source": [
    "#scaler upravi hodnoty aby byl mean 0 a std 1 pro kazdou feature zvlast\n",
    "scaler = StandardScaler()\n",
    "train_scaled = scaler.fit_transform(X_train)\n",
    "test_scaled = scaler.transform(X_test)"
   ]
  },
  {
   "cell_type": "code",
   "execution_count": 241,
   "id": "fe7e8a06",
   "metadata": {},
   "outputs": [
    {
     "name": "stdout",
     "output_type": "stream",
     "text": [
      "Fitting 5 folds for each of 5 candidates, totalling 25 fits\n"
     ]
    },
    {
     "name": "stderr",
     "output_type": "stream",
     "text": [
      "C:\\Users\\mates\\anaconda3\\lib\\site-packages\\sklearn\\model_selection\\_search.py:918: UserWarning: One or more of the test scores are non-finite: [       nan 0.94310515 0.97165365 0.90816338        nan]\n",
      "  warnings.warn(\n",
      "C:\\Users\\mates\\anaconda3\\lib\\site-packages\\xgboost\\sklearn.py:888: UserWarning: The use of label encoder in XGBClassifier is deprecated and will be removed in a future release. To remove this warning, do the following: 1) Pass option use_label_encoder=False when constructing XGBClassifier object; and 2) Encode your labels (y) as integers starting with 0, i.e. 0, 1, 2, ..., [num_class - 1].\n",
      "  warnings.warn(label_encoder_deprecation_msg, UserWarning)\n"
     ]
    },
    {
     "name": "stdout",
     "output_type": "stream",
     "text": [
      "[11:53:56] WARNING: ..\\src\\learner.cc:1061: Starting in XGBoost 1.3.0, the default evaluation metric used with the objective 'binary:logistic' was changed from 'error' to 'logloss'. Explicitly set eval_metric if you'd like to restore the old behavior.\n"
     ]
    }
   ],
   "source": [
    "#Znovu to samé akorát s vybalancovaným datasetem\n",
    "params = {\n",
    "        'n_estimators': stats.randint(150, 1000),\n",
    "        'learning_rate': stats.uniform(0.01, 0.6),\n",
    "        'min_child_weight': [1, 5, 10],\n",
    "        'gamma': [0.5, 1, 1.5, 2, 5],\n",
    "        'subsample': [0.6, 0.8, 1.0,2],\n",
    "        'colsample_bytree': [0.6, 0.8, 1.0],\n",
    "        'max_depth': [6,7,8,9,10]\n",
    "        \n",
    "        }\n",
    "xgb = XGBClassifier()\n",
    "rs = RandomizedSearchCV(xgb, param_distributions=params, n_iter=5, n_jobs=4, cv=5, verbose=3, random_state=1001 )\n",
    "rs.fit(train_scaled, y_train)\n",
    "\n",
    "\n",
    "y_pred = rs.best_estimator_.predict(test_scaled)\n"
   ]
  },
  {
   "cell_type": "code",
   "execution_count": 242,
   "id": "b1b1234e",
   "metadata": {},
   "outputs": [
    {
     "data": {
      "text/plain": [
       "{'colsample_bytree': 0.8,\n",
       " 'gamma': 1,\n",
       " 'learning_rate': 0.3583883653988028,\n",
       " 'max_depth': 10,\n",
       " 'min_child_weight': 5,\n",
       " 'n_estimators': 354,\n",
       " 'subsample': 0.8}"
      ]
     },
     "execution_count": 242,
     "metadata": {},
     "output_type": "execute_result"
    }
   ],
   "source": [
    "rs.best_params_"
   ]
  },
  {
   "cell_type": "code",
   "execution_count": 243,
   "id": "d821b96f",
   "metadata": {},
   "outputs": [
    {
     "data": {
      "text/plain": [
       "0.9716536511797627"
      ]
     },
     "execution_count": 243,
     "metadata": {},
     "output_type": "execute_result"
    }
   ],
   "source": [
    "rs.best_score_"
   ]
  },
  {
   "cell_type": "code",
   "execution_count": 254,
   "id": "47f6bbb6",
   "metadata": {},
   "outputs": [
    {
     "name": "stdout",
     "output_type": "stream",
     "text": [
      "Feature: 0, Score: 0.01531\n",
      "Feature: 1, Score: 0.01755\n",
      "Feature: 2, Score: 0.01956\n",
      "Feature: 3, Score: 0.02706\n",
      "Feature: 4, Score: 0.03809\n",
      "Feature: 5, Score: 0.02267\n",
      "Feature: 6, Score: 0.02394\n",
      "Feature: 7, Score: 0.02843\n",
      "Feature: 8, Score: 0.03244\n",
      "Feature: 9, Score: 0.03228\n",
      "Feature: 10, Score: 0.02058\n",
      "Feature: 11, Score: 0.02414\n",
      "Feature: 12, Score: 0.03100\n",
      "Feature: 13, Score: 0.05579\n",
      "Feature: 14, Score: 0.02007\n",
      "Feature: 15, Score: 0.03836\n",
      "Feature: 16, Score: 0.02500\n",
      "Feature: 17, Score: 0.06047\n",
      "Feature: 18, Score: 0.39549\n",
      "Feature: 19, Score: 0.02386\n",
      "Feature: 20, Score: 0.04791\n"
     ]
    }
   ],
   "source": [
    "importance = rs.best_estimator_.feature_importances_\n",
    "# summarize feature importance\n",
    "for i,v in enumerate(importance):\n",
    "\tprint('Feature: %0d, Score: %.5f' % (i,v))"
   ]
  },
  {
   "cell_type": "code",
   "execution_count": 257,
   "id": "719b14b1",
   "metadata": {},
   "outputs": [
    {
     "data": {
      "text/plain": [
       "<AxesSubplot:>"
      ]
     },
     "execution_count": 257,
     "metadata": {},
     "output_type": "execute_result"
    },
    {
     "data": {
      "image/png": "[encoded data removed]",
      "text/plain": [
       "<Figure size 432x288 with 1 Axes>"
      ]
     },
     "metadata": {
      "needs_background": "light"
     },
     "output_type": "display_data"
    }
   ],
   "source": [
    "(pd.Series(rs.best_estimator_.feature_importances_, index=X.columns)\n",
    "   .nlargest(20)\n",
    "   .plot(kind='barh'))"
   ]
  },
  {
   "cell_type": "code",
   "execution_count": 245,
   "id": "7da72531",
   "metadata": {},
   "outputs": [
    {
     "data": {
      "image/png": "[encoded data removed]",
      "text/plain": [
       "<Figure size 432x288 with 2 Axes>"
      ]
     },
     "metadata": {
      "needs_background": "light"
     },
     "output_type": "display_data"
    }
   ],
   "source": [
    "disp = plot_confusion_matrix(rs.best_estimator_, test_scaled, y_test,                                            \n",
    "                                 cmap=plt.cm.Blues)\n",
    "\n",
    "plt.show()"
   ]
  },
  {
   "cell_type": "code",
   "execution_count": 252,
   "id": "50d63eb4",
   "metadata": {},
   "outputs": [
    {
     "data": {
      "text/plain": [
       "array([[18984,   873],\n",
       "       [   28, 19689]], dtype=int64)"
      ]
     },
     "execution_count": 252,
     "metadata": {},
     "output_type": "execute_result"
    }
   ],
   "source": [
    "from sklearn.metrics import confusion_matrix\n",
    "confusion_matrix(y_test, y_pred)"
   ]
  },
  {
   "cell_type": "code",
   "execution_count": 261,
   "id": "8d8f3c52",
   "metadata": {},
   "outputs": [
    {
     "name": "stderr",
     "output_type": "stream",
     "text": [
      "C:\\Users\\mates\\anaconda3\\lib\\site-packages\\sklearn\\neural_network\\_multilayer_perceptron.py:614: ConvergenceWarning: Stochastic Optimizer: Maximum iterations (100) reached and the optimization hasn't converged yet.\n",
      "  warnings.warn(\n"
     ]
    },
    {
     "data": {
      "text/plain": [
       "GridSearchCV(cv=3, estimator=MLPClassifier(max_iter=100), n_jobs=-1,\n",
       "             param_grid={'activation': ['tanh', 'relu'],\n",
       "                         'alpha': [0.0001, 0.05],\n",
       "                         'hidden_layer_sizes': [(50, 50, 50), (50, 100, 50),\n",
       "                                                (100,)],\n",
       "                         'learning_rate': ['constant', 'adaptive'],\n",
       "                         'solver': ['sgd', 'adam']})"
      ]
     },
     "execution_count": 261,
     "metadata": {},
     "output_type": "execute_result"
    }
   ],
   "source": [
    "#Znovu neuronka\n",
    "model = MLPClassifier(max_iter=100)\n",
    "parameter_space = {\n",
    "    'hidden_layer_sizes': [(50,50,50), (50,100,50), (100,)],\n",
    "    'activation': ['tanh', 'relu'],\n",
    "    'solver': ['sgd', 'adam'],\n",
    "    'alpha': [0.0001, 0.05],\n",
    "    'learning_rate': ['constant','adaptive'],\n",
    "}\n",
    "\n",
    "clf = GridSearchCV(model, parameter_space, n_jobs=-1, cv=3)\n",
    "\n",
    "clf.fit(train_scaled, y_train)"
   ]
  },
  {
   "cell_type": "code",
   "execution_count": null,
   "id": "d7f23913",
   "metadata": {},
   "outputs": [],
   "source": []
  },
  {
   "cell_type": "code",
   "execution_count": 262,
   "id": "ff80150a",
   "metadata": {},
   "outputs": [],
   "source": [
    "#nasazeni modelu\n",
    "mlp_pred = clf.predict(test_scaled)"
   ]
  },
  {
   "cell_type": "code",
   "execution_count": 263,
   "id": "30f0ffc1",
   "metadata": {},
   "outputs": [
    {
     "data": {
      "text/plain": [
       "0.8943661082050894"
      ]
     },
     "execution_count": 263,
     "metadata": {},
     "output_type": "execute_result"
    }
   ],
   "source": [
    "#sice to trva milion dni, ale krasny vysledek, v matici nize je i videt ze to neni jen 93% False\n",
    "clf.best_score_"
   ]
  },
  {
   "cell_type": "code",
   "execution_count": null,
   "id": "7abb9477",
   "metadata": {},
   "outputs": [],
   "source": []
  },
  {
   "cell_type": "code",
   "execution_count": 264,
   "id": "6f35c5bc",
   "metadata": {},
   "outputs": [
    {
     "data": {
      "text/plain": [
       "array([[17875,  1982],\n",
       "       [ 1707, 18010]], dtype=int64)"
      ]
     },
     "execution_count": 264,
     "metadata": {},
     "output_type": "execute_result"
    }
   ],
   "source": [
    "from sklearn.metrics import confusion_matrix\n",
    "confusion_matrix(y_test, mlp_pred)"
   ]
  },
  {
   "cell_type": "code",
   "execution_count": 265,
   "id": "a74afc29",
   "metadata": {},
   "outputs": [
    {
     "data": {
      "image/png": "[encoded data removed]",
      "text/plain": [
       "<Figure size 432x288 with 2 Axes>"
      ]
     },
     "metadata": {
      "needs_background": "light"
     },
     "output_type": "display_data"
    }
   ],
   "source": [
    "disp = plot_confusion_matrix(clf, test_scaled, y_test,                                            \n",
    "                                 cmap=plt.cm.Blues)\n",
    "\n",
    "plt.show()"
   ]
  },
  {
   "cell_type": "code",
   "execution_count": 266,
   "id": "53f57f4f",
   "metadata": {},
   "outputs": [],
   "source": [
    "#Logisticka regrese, spise demonstrativni, oproti mlp a gradient boostingu nema sanci\n",
    "model = LogisticRegression(solver='liblinear', random_state=0).fit(X_train, y_train)\n",
    "y_pred = model.predict(test_scaled)"
   ]
  },
  {
   "cell_type": "code",
   "execution_count": 268,
   "id": "e30bfaba",
   "metadata": {},
   "outputs": [
    {
     "name": "stdout",
     "output_type": "stream",
     "text": [
      "logRegScore : 73.5129125183201 %\n"
     ]
    }
   ],
   "source": [
    "logRegScore = accuracy_score(y_test, y_pred, normalize=True, sample_weight=None)\n",
    "print('logRegScore :', logRegScore*100,'%')"
   ]
  },
  {
   "cell_type": "code",
   "execution_count": 269,
   "id": "41d2525a",
   "metadata": {},
   "outputs": [
    {
     "data": {
      "image/png": "[encoded data removed]",
      "text/plain": [
       "<Figure size 432x288 with 2 Axes>"
      ]
     },
     "metadata": {
      "needs_background": "light"
     },
     "output_type": "display_data"
    }
   ],
   "source": [
    "disp = plot_confusion_matrix(model, X_test, y_test,                                            \n",
    "                                 cmap=plt.cm.Blues)\n",
    "\n",
    "plt.show()"
   ]
  },
  {
   "cell_type": "markdown",
   "id": "26c63789",
   "metadata": {},
   "source": [
    "## 7 nejdůležitějších parametrů\n"
   ]
  },
  {
   "cell_type": "code",
   "execution_count": 274,
   "id": "c044944a",
   "metadata": {},
   "outputs": [],
   "source": [
    "shortDF = df[['Money_Sum','Internet_Transactions','Phone_Transactions','Consumer_Loan_Amount','Trans_sum','Branch_Transactions','Current_Amount','New_Credit_Card_Flag']]"
   ]
  },
  {
   "cell_type": "code",
   "execution_count": 275,
   "id": "4fbb9b20",
   "metadata": {},
   "outputs": [
    {
     "data": {
      "text/html": [
       "<div>\n",
       "<style scoped>\n",
       "    .dataframe tbody tr th:only-of-type {\n",
       "        vertical-align: middle;\n",
       "    }\n",
       "\n",
       "    .dataframe tbody tr th {\n",
       "        vertical-align: top;\n",
       "    }\n",
       "\n",
       "    .dataframe thead th {\n",
       "        text-align: right;\n",
       "    }\n",
       "</style>\n",
       "<table border=\"1\" class=\"dataframe\">\n",
       "  <thead>\n",
       "    <tr style=\"text-align: right;\">\n",
       "      <th></th>\n",
       "      <th>Money_Sum</th>\n",
       "      <th>Internet_Transactions</th>\n",
       "      <th>Phone_Transactions</th>\n",
       "      <th>Consumer_Loan_Amount</th>\n",
       "      <th>Trans_sum</th>\n",
       "      <th>Branch_Transactions</th>\n",
       "      <th>Current_Amount</th>\n",
       "      <th>New_Credit_Card_Flag</th>\n",
       "    </tr>\n",
       "  </thead>\n",
       "  <tbody>\n",
       "    <tr>\n",
       "      <th>0</th>\n",
       "      <td>0.000000</td>\n",
       "      <td>0</td>\n",
       "      <td>0</td>\n",
       "      <td>0</td>\n",
       "      <td>0</td>\n",
       "      <td>0</td>\n",
       "      <td>0</td>\n",
       "      <td>0</td>\n",
       "    </tr>\n",
       "    <tr>\n",
       "      <th>1</th>\n",
       "      <td>0.000000</td>\n",
       "      <td>0</td>\n",
       "      <td>0</td>\n",
       "      <td>1</td>\n",
       "      <td>7</td>\n",
       "      <td>1</td>\n",
       "      <td>0</td>\n",
       "      <td>0</td>\n",
       "    </tr>\n",
       "    <tr>\n",
       "      <th>2</th>\n",
       "      <td>18.825714</td>\n",
       "      <td>0</td>\n",
       "      <td>0</td>\n",
       "      <td>0</td>\n",
       "      <td>0</td>\n",
       "      <td>0</td>\n",
       "      <td>0</td>\n",
       "      <td>0</td>\n",
       "    </tr>\n",
       "    <tr>\n",
       "      <th>3</th>\n",
       "      <td>603.791429</td>\n",
       "      <td>0</td>\n",
       "      <td>0</td>\n",
       "      <td>0</td>\n",
       "      <td>26</td>\n",
       "      <td>1</td>\n",
       "      <td>1</td>\n",
       "      <td>0</td>\n",
       "    </tr>\n",
       "    <tr>\n",
       "      <th>4</th>\n",
       "      <td>0.000000</td>\n",
       "      <td>0</td>\n",
       "      <td>0</td>\n",
       "      <td>1</td>\n",
       "      <td>0</td>\n",
       "      <td>0</td>\n",
       "      <td>0</td>\n",
       "      <td>0</td>\n",
       "    </tr>\n",
       "  </tbody>\n",
       "</table>\n",
       "</div>"
      ],
      "text/plain": [
       "    Money_Sum  Internet_Transactions  Phone_Transactions  \\\n",
       "0    0.000000                      0                   0   \n",
       "1    0.000000                      0                   0   \n",
       "2   18.825714                      0                   0   \n",
       "3  603.791429                      0                   0   \n",
       "4    0.000000                      0                   0   \n",
       "\n",
       "   Consumer_Loan_Amount  Trans_sum  Branch_Transactions  Current_Amount  \\\n",
       "0                     0          0                    0               0   \n",
       "1                     1          7                    1               0   \n",
       "2                     0          0                    0               0   \n",
       "3                     0         26                    1               1   \n",
       "4                     1          0                    0               0   \n",
       "\n",
       "   New_Credit_Card_Flag  \n",
       "0                     0  \n",
       "1                     0  \n",
       "2                     0  \n",
       "3                     0  \n",
       "4                     0  "
      ]
     },
     "execution_count": 275,
     "metadata": {},
     "output_type": "execute_result"
    }
   ],
   "source": [
    "shortDF.head(5)"
   ]
  },
  {
   "cell_type": "code",
   "execution_count": 276,
   "id": "2ec809c8",
   "metadata": {},
   "outputs": [],
   "source": [
    "objList = shortDF.select_dtypes(include = \"object\").columns"
   ]
  },
  {
   "cell_type": "code",
   "execution_count": 277,
   "id": "c2126b5c",
   "metadata": {},
   "outputs": [],
   "source": [
    "boList = shortDF.select_dtypes(include = \"bool\").columns"
   ]
  },
  {
   "cell_type": "code",
   "execution_count": 278,
   "id": "c810c00b",
   "metadata": {},
   "outputs": [],
   "source": [
    "for feat in boList:\n",
    "    df[feat] = le.fit_transform(df[feat].astype(str))"
   ]
  },
  {
   "cell_type": "code",
   "execution_count": 279,
   "id": "6316d097",
   "metadata": {},
   "outputs": [],
   "source": [
    "for feat in objList:\n",
    "    df[feat] = le.fit_transform(df[feat].astype(str))"
   ]
  },
  {
   "cell_type": "code",
   "execution_count": 280,
   "id": "01e22bd2",
   "metadata": {},
   "outputs": [],
   "source": [
    "X = shortDF.drop(['New_Credit_Card_Flag'], axis=1)\n",
    "y = shortDF['New_Credit_Card_Flag']"
   ]
  },
  {
   "cell_type": "code",
   "execution_count": 281,
   "id": "4d7cb18c",
   "metadata": {},
   "outputs": [],
   "source": [
    "from imblearn.over_sampling import RandomOverSampler\n",
    "\n",
    "ros = RandomOverSampler(sampling_strategy = \"not majority\")\n",
    "\n",
    "X_res, y_res = ros.fit_resample(X,y)"
   ]
  },
  {
   "cell_type": "code",
   "execution_count": 282,
   "id": "e5cbd151",
   "metadata": {},
   "outputs": [],
   "source": [
    "X_train, X_test, y_train, y_test = train_test_split(X_res, y_res, test_size=0.2, random_state=101)"
   ]
  },
  {
   "cell_type": "code",
   "execution_count": 283,
   "id": "865fde08",
   "metadata": {},
   "outputs": [],
   "source": [
    "#scaler upravi hodnoty aby byl mean 0 a std 1 pro kazdou feature zvlast\n",
    "scaler = StandardScaler()\n",
    "train_scaled = scaler.fit_transform(X_train)\n",
    "test_scaled = scaler.transform(X_test)"
   ]
  },
  {
   "cell_type": "code",
   "execution_count": 284,
   "id": "13166916",
   "metadata": {},
   "outputs": [
    {
     "name": "stdout",
     "output_type": "stream",
     "text": [
      "Fitting 5 folds for each of 5 candidates, totalling 25 fits\n"
     ]
    },
    {
     "name": "stderr",
     "output_type": "stream",
     "text": [
      "C:\\Users\\mates\\anaconda3\\lib\\site-packages\\sklearn\\model_selection\\_search.py:918: UserWarning: One or more of the test scores are non-finite: [       nan 0.86968391 0.91288256 0.83548761        nan]\n",
      "  warnings.warn(\n",
      "C:\\Users\\mates\\anaconda3\\lib\\site-packages\\xgboost\\sklearn.py:888: UserWarning: The use of label encoder in XGBClassifier is deprecated and will be removed in a future release. To remove this warning, do the following: 1) Pass option use_label_encoder=False when constructing XGBClassifier object; and 2) Encode your labels (y) as integers starting with 0, i.e. 0, 1, 2, ..., [num_class - 1].\n",
      "  warnings.warn(label_encoder_deprecation_msg, UserWarning)\n"
     ]
    },
    {
     "name": "stdout",
     "output_type": "stream",
     "text": [
      "[12:52:51] WARNING: ..\\src\\learner.cc:1061: Starting in XGBoost 1.3.0, the default evaluation metric used with the objective 'binary:logistic' was changed from 'error' to 'logloss'. Explicitly set eval_metric if you'd like to restore the old behavior.\n"
     ]
    }
   ],
   "source": [
    "#Znovu to samé akorát s vybalancovaným datasetem\n",
    "params = {\n",
    "        'n_estimators': stats.randint(150, 1000),\n",
    "        'learning_rate': stats.uniform(0.01, 0.6),\n",
    "        'min_child_weight': [1, 5, 10],\n",
    "        'gamma': [0.5, 1, 1.5, 2, 5],\n",
    "        'subsample': [0.6, 0.8, 1.0,2],\n",
    "        'colsample_bytree': [0.6, 0.8, 1.0],\n",
    "        'max_depth': [6,7,8,9,10]\n",
    "        \n",
    "        }\n",
    "xgb = XGBClassifier()\n",
    "rs = RandomizedSearchCV(xgb, param_distributions=params, n_iter=5, n_jobs=4, cv=5, verbose=3, random_state=1001 )\n",
    "rs.fit(train_scaled, y_train)\n",
    "\n",
    "\n",
    "y_pred = rs.best_estimator_.predict(test_scaled)"
   ]
  },
  {
   "cell_type": "code",
   "execution_count": 285,
   "id": "79c62970",
   "metadata": {},
   "outputs": [
    {
     "data": {
      "text/plain": [
       "{'colsample_bytree': 0.8,\n",
       " 'gamma': 1,\n",
       " 'learning_rate': 0.3583883653988028,\n",
       " 'max_depth': 10,\n",
       " 'min_child_weight': 5,\n",
       " 'n_estimators': 354,\n",
       " 'subsample': 0.8}"
      ]
     },
     "execution_count": 285,
     "metadata": {},
     "output_type": "execute_result"
    }
   ],
   "source": [
    "rs.best_params_"
   ]
  },
  {
   "cell_type": "code",
   "execution_count": 286,
   "id": "7666acf1",
   "metadata": {},
   "outputs": [
    {
     "data": {
      "text/plain": [
       "0.9128825598018956"
      ]
     },
     "execution_count": 286,
     "metadata": {},
     "output_type": "execute_result"
    }
   ],
   "source": [
    "rs.best_score_"
   ]
  },
  {
   "cell_type": "code",
   "execution_count": 287,
   "id": "a3ccd6e5",
   "metadata": {},
   "outputs": [
    {
     "data": {
      "text/plain": [
       "<AxesSubplot:>"
      ]
     },
     "execution_count": 287,
     "metadata": {},
     "output_type": "execute_result"
    },
    {
     "data": {
      "image/png": "[encoded data removed]",
      "text/plain": [
       "<Figure size 432x288 with 1 Axes>"
      ]
     },
     "metadata": {
      "needs_background": "light"
     },
     "output_type": "display_data"
    }
   ],
   "source": [
    "(pd.Series(rs.best_estimator_.feature_importances_, index=X.columns)\n",
    "   .nlargest(20)\n",
    "   .plot(kind='barh'))"
   ]
  },
  {
   "cell_type": "code",
   "execution_count": null,
   "id": "51eeb954",
   "metadata": {},
   "outputs": [],
   "source": []
  }
 ],
 "metadata": {
  "kernelspec": {
   "display_name": "Python 3",
   "language": "python",
   "name": "python3"
  },
  "language_info": {
   "codemirror_mode": {
    "name": "ipython",
    "version": 3
   },
   "file_extension": ".py",
   "mimetype": "text/x-python",
   "name": "python",
   "nbconvert_exporter": "python",
   "pygments_lexer": "ipython3",
   "version": "3.8.8"
  }
 },
 "nbformat": 4,
 "nbformat_minor": 5
}
