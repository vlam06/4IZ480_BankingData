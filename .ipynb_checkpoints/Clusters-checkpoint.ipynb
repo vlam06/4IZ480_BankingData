{
 "cells": [
  {
   "cell_type": "code",
   "execution_count": 112,
   "id": "245c40fe",
   "metadata": {},
   "outputs": [],
   "source": [
    "import csv\n",
    "import pandas as pd\n",
    "from sklearn.cluster import KMeans\n",
    "from sklearn import preprocessing\n",
    "from kmodes.kmodes import KModes\n",
    "\n",
    "# Importing all required packages\n",
    "import numpy as np\n",
    "import pandas as pd\n",
    "\n",
    "# Data viz lib\n",
    "import matplotlib.pyplot as plt\n",
    "import seaborn as sns\n",
    "%matplotlib inline\n",
    "from matplotlib.pyplot import xticks"
   ]
  },
  {
   "cell_type": "code",
   "execution_count": 113,
   "id": "1051bedf",
   "metadata": {},
   "outputs": [],
   "source": [
    "df = pd.read_csv('Banking Prediction Sample 1 - Dataset.csv',encoding='UTF-8', engine='python',sep=',')\n",
    "df.drop('Customer_ID',inplace=True, axis=1)\n",
    "df2 = df[['Gender','Age','Tenure','Branch_Transactions','ATM_Transactions','Phone_Transactions','Internet_Transactions']]\n",
    "category = pd.cut(df2.Age,bins=[0,20,30,40,50,60,70,100],labels=['0-20','20-30','30-40','40-50','50-60','60-70','70-100'])\n",
    "df2.insert(2,\"Age Group\",category)\n",
    "\n",
    "category2 = pd.cut(df2.Tenure,bins=[0,12,24,36,48,60,72,999],labels=['1','2','3','4','5','6','Vecnost'])\n",
    "df2.insert(2,\"Tenure_edit\",category2)"
   ]
  },
  {
   "cell_type": "code",
   "execution_count": 114,
   "id": "8371b4b2",
   "metadata": {},
   "outputs": [
    {
     "name": "stdout",
     "output_type": "stream",
     "text": [
      "       Gender Tenure_edit Age Group  Branch_Transactions  ATM_Transactions  \\\n",
      "0           M           5     50-60                    0                 0   \n",
      "1           F           5     50-60                    4                 3   \n",
      "2           M           5     50-60                    0                 0   \n",
      "3           M           5     50-60                    7                 7   \n",
      "4           F           5     60-70                    0                 0   \n",
      "...       ...         ...       ...                  ...               ...   \n",
      "104728      M         NaN     50-60                    1                 0   \n",
      "104729      F         NaN    70-100                    1                 0   \n",
      "104730      M         NaN     20-30                    0                 0   \n",
      "104731      M         NaN     30-40                    0                 0   \n",
      "104732      M         NaN     60-70                    0                 0   \n",
      "\n",
      "        Phone_Transactions  Internet_Transactions  \n",
      "0                        0                      0  \n",
      "1                        0                      0  \n",
      "2                        0                      0  \n",
      "3                        0                      0  \n",
      "4                        0                      0  \n",
      "...                    ...                    ...  \n",
      "104728                   0                      0  \n",
      "104729                   0                      0  \n",
      "104730                   0                      0  \n",
      "104731                   0                      0  \n",
      "104732                   0                      0  \n",
      "\n",
      "[104733 rows x 7 columns]\n"
     ]
    }
   ],
   "source": [
    "df2.drop(\"Age\",inplace=True,axis=1)\n",
    "df2.drop(\"Tenure\",inplace=True,axis=1)\n",
    "print(df2)"
   ]
  },
  {
   "cell_type": "code",
   "execution_count": 115,
   "id": "da812e40",
   "metadata": {},
   "outputs": [
    {
     "name": "stdout",
     "output_type": "stream",
     "text": [
      "       Gender Tenure_edit Age Group  Branch_Transactions  ATM_Transactions  \\\n",
      "0           M           5     50-60                    0                 0   \n",
      "1           F           5     50-60                    4                 3   \n",
      "2           M           5     50-60                    0                 0   \n",
      "3           M           5     50-60                    7                 7   \n",
      "4           F           5     60-70                    0                 0   \n",
      "...       ...         ...       ...                  ...               ...   \n",
      "104728      M         NaN     50-60                    1                 0   \n",
      "104729      F         NaN    70-100                    1                 0   \n",
      "104730      M         NaN     20-30                    0                 0   \n",
      "104731      M         NaN     30-40                    0                 0   \n",
      "104732      M         NaN     60-70                    0                 0   \n",
      "\n",
      "        Phone_Transactions  Internet_Transactions  \n",
      "0                        0                      0  \n",
      "1                        0                      0  \n",
      "2                        0                      0  \n",
      "3                        0                      0  \n",
      "4                        0                      0  \n",
      "...                    ...                    ...  \n",
      "104728                   0                      0  \n",
      "104729                   0                      0  \n",
      "104730                   0                      0  \n",
      "104731                   0                      0  \n",
      "104732                   0                      0  \n",
      "\n",
      "[104733 rows x 7 columns]\n"
     ]
    }
   ],
   "source": [
    "print(df2)"
   ]
  },
  {
   "cell_type": "code",
   "execution_count": 116,
   "id": "96aaf8b6",
   "metadata": {},
   "outputs": [
    {
     "data": {
      "text/plain": [
       "(104733, 7)"
      ]
     },
     "execution_count": 116,
     "metadata": {},
     "output_type": "execute_result"
    }
   ],
   "source": [
    "df2.shape"
   ]
  },
  {
   "cell_type": "code",
   "execution_count": 117,
   "id": "1e9f2c1c",
   "metadata": {},
   "outputs": [
    {
     "name": "stdout",
     "output_type": "stream",
     "text": [
      "<class 'pandas.core.frame.DataFrame'>\n",
      "RangeIndex: 104733 entries, 0 to 104732\n",
      "Data columns (total 7 columns):\n",
      " #   Column                 Non-Null Count   Dtype   \n",
      "---  ------                 --------------   -----   \n",
      " 0   Gender                 104733 non-null  object  \n",
      " 1   Tenure_edit            104442 non-null  category\n",
      " 2   Age Group              104733 non-null  category\n",
      " 3   Branch_Transactions    104733 non-null  int64   \n",
      " 4   ATM_Transactions       104733 non-null  int64   \n",
      " 5   Phone_Transactions     104733 non-null  int64   \n",
      " 6   Internet_Transactions  104733 non-null  int64   \n",
      "dtypes: category(2), int64(4), object(1)\n",
      "memory usage: 4.2+ MB\n"
     ]
    }
   ],
   "source": [
    "df2.info()"
   ]
  },
  {
   "cell_type": "code",
   "execution_count": 118,
   "id": "0ab59e36",
   "metadata": {},
   "outputs": [],
   "source": [
    "df2_copy = df2.copy()"
   ]
  },
  {
   "cell_type": "code",
   "execution_count": 119,
   "id": "db711735",
   "metadata": {},
   "outputs": [
    {
     "data": {
      "text/html": [
       "<div>\n",
       "<style scoped>\n",
       "    .dataframe tbody tr th:only-of-type {\n",
       "        vertical-align: middle;\n",
       "    }\n",
       "\n",
       "    .dataframe tbody tr th {\n",
       "        vertical-align: top;\n",
       "    }\n",
       "\n",
       "    .dataframe thead th {\n",
       "        text-align: right;\n",
       "    }\n",
       "</style>\n",
       "<table border=\"1\" class=\"dataframe\">\n",
       "  <thead>\n",
       "    <tr style=\"text-align: right;\">\n",
       "      <th></th>\n",
       "      <th>Gender</th>\n",
       "      <th>Tenure_edit</th>\n",
       "      <th>Age Group</th>\n",
       "      <th>Branch_Transactions</th>\n",
       "      <th>ATM_Transactions</th>\n",
       "      <th>Phone_Transactions</th>\n",
       "      <th>Internet_Transactions</th>\n",
       "    </tr>\n",
       "  </thead>\n",
       "  <tbody>\n",
       "    <tr>\n",
       "      <th>0</th>\n",
       "      <td>1</td>\n",
       "      <td>4</td>\n",
       "      <td>4</td>\n",
       "      <td>0</td>\n",
       "      <td>0</td>\n",
       "      <td>0</td>\n",
       "      <td>0</td>\n",
       "    </tr>\n",
       "    <tr>\n",
       "      <th>1</th>\n",
       "      <td>0</td>\n",
       "      <td>4</td>\n",
       "      <td>4</td>\n",
       "      <td>4</td>\n",
       "      <td>3</td>\n",
       "      <td>0</td>\n",
       "      <td>0</td>\n",
       "    </tr>\n",
       "    <tr>\n",
       "      <th>2</th>\n",
       "      <td>1</td>\n",
       "      <td>4</td>\n",
       "      <td>4</td>\n",
       "      <td>0</td>\n",
       "      <td>0</td>\n",
       "      <td>0</td>\n",
       "      <td>0</td>\n",
       "    </tr>\n",
       "    <tr>\n",
       "      <th>3</th>\n",
       "      <td>1</td>\n",
       "      <td>4</td>\n",
       "      <td>4</td>\n",
       "      <td>7</td>\n",
       "      <td>7</td>\n",
       "      <td>0</td>\n",
       "      <td>0</td>\n",
       "    </tr>\n",
       "    <tr>\n",
       "      <th>4</th>\n",
       "      <td>0</td>\n",
       "      <td>4</td>\n",
       "      <td>5</td>\n",
       "      <td>0</td>\n",
       "      <td>0</td>\n",
       "      <td>0</td>\n",
       "      <td>0</td>\n",
       "    </tr>\n",
       "  </tbody>\n",
       "</table>\n",
       "</div>"
      ],
      "text/plain": [
       "   Gender  Tenure_edit  Age Group  Branch_Transactions  ATM_Transactions  \\\n",
       "0       1            4          4                    0                 0   \n",
       "1       0            4          4                    4                 3   \n",
       "2       1            4          4                    0                 0   \n",
       "3       1            4          4                    7                 7   \n",
       "4       0            4          5                    0                 0   \n",
       "\n",
       "   Phone_Transactions  Internet_Transactions  \n",
       "0                   0                      0  \n",
       "1                   0                      0  \n",
       "2                   0                      0  \n",
       "3                   0                      0  \n",
       "4                   0                      0  "
      ]
     },
     "execution_count": 119,
     "metadata": {},
     "output_type": "execute_result"
    }
   ],
   "source": [
    "le = preprocessing.LabelEncoder()\n",
    "df2 = df2.apply(le.fit_transform)\n",
    "df2.head()"
   ]
  },
  {
   "cell_type": "code",
   "execution_count": 120,
   "id": "c847f9f5",
   "metadata": {},
   "outputs": [
    {
     "name": "stdout",
     "output_type": "stream",
     "text": [
      "<class 'pandas.core.frame.DataFrame'>\n",
      "RangeIndex: 104733 entries, 0 to 104732\n",
      "Data columns (total 7 columns):\n",
      " #   Column                 Non-Null Count   Dtype\n",
      "---  ------                 --------------   -----\n",
      " 0   Gender                 104733 non-null  int32\n",
      " 1   Tenure_edit            104733 non-null  int32\n",
      " 2   Age Group              104733 non-null  int32\n",
      " 3   Branch_Transactions    104733 non-null  int64\n",
      " 4   ATM_Transactions       104733 non-null  int64\n",
      " 5   Phone_Transactions     104733 non-null  int64\n",
      " 6   Internet_Transactions  104733 non-null  int64\n",
      "dtypes: int32(3), int64(4)\n",
      "memory usage: 4.4 MB\n"
     ]
    }
   ],
   "source": [
    "df2.info()"
   ]
  },
  {
   "cell_type": "code",
   "execution_count": 121,
   "id": "3aaaa4bb",
   "metadata": {},
   "outputs": [
    {
     "name": "stdout",
     "output_type": "stream",
     "text": [
      "Init: initializing centroids\n",
      "Init: initializing clusters\n",
      "Starting iterations...\n",
      "Run 1, iteration: 1/100, moves: 0, cost: 289122.0\n",
      "Init: initializing centroids\n",
      "Init: initializing clusters\n",
      "Starting iterations...\n",
      "Run 1, iteration: 1/100, moves: 11281, cost: 250386.0\n",
      "Init: initializing centroids\n",
      "Init: initializing clusters\n",
      "Starting iterations...\n",
      "Run 1, iteration: 1/100, moves: 16733, cost: 231117.0\n",
      "Init: initializing centroids\n",
      "Init: initializing clusters\n",
      "Starting iterations...\n",
      "Run 1, iteration: 1/100, moves: 18171, cost: 223527.0\n"
     ]
    }
   ],
   "source": [
    "cost = []\n",
    "for num_clusters in list(range(1,5)):\n",
    "    kmode = KModes(n_clusters=num_clusters, init = \"Cao\", n_init = 1, verbose=1)\n",
    "    kmode.fit_predict(df2)\n",
    "    cost.append(kmode.cost_)"
   ]
  },
  {
   "cell_type": "code",
   "execution_count": 123,
   "id": "57a1ba20",
   "metadata": {},
   "outputs": [
    {
     "data": {
      "text/plain": [
       "[<matplotlib.lines.Line2D at 0x1d4226b1d30>]"
      ]
     },
     "execution_count": 123,
     "metadata": {},
     "output_type": "execute_result"
    },
    {
     "data": {
      "image/png": "[encoded data removed]",
      "text/plain": [
       "<Figure size 432x288 with 1 Axes>"
      ]
     },
     "metadata": {
      "needs_background": "light"
     },
     "output_type": "display_data"
    }
   ],
   "source": [
    "y = np.array([i for i in range(1,5,1)])\n",
    "plt.plot(y,cost)"
   ]
  },
  {
   "cell_type": "code",
   "execution_count": 124,
   "id": "10fd3de6",
   "metadata": {},
   "outputs": [
    {
     "name": "stdout",
     "output_type": "stream",
     "text": [
      "Init: initializing centroids\n",
      "Init: initializing clusters\n",
      "Starting iterations...\n",
      "Run 1, iteration: 1/100, moves: 16733, cost: 231117.0\n"
     ]
    }
   ],
   "source": [
    "km_cao = KModes(n_clusters=3, init = \"Cao\", n_init = 1, verbose=1)\n",
    "fitClusters_cao = km_cao.fit_predict(df2)"
   ]
  },
  {
   "cell_type": "code",
   "execution_count": 125,
   "id": "cf3cd4ac",
   "metadata": {},
   "outputs": [],
   "source": [
    "df2 = df2_copy.reset_index()"
   ]
  },
  {
   "cell_type": "code",
   "execution_count": 126,
   "id": "4fe10964",
   "metadata": {},
   "outputs": [],
   "source": [
    "clustersDf = pd.DataFrame(fitClusters_cao)\n",
    "clustersDf.columns = ['cluster_predicted']\n",
    "combinedDf = pd.concat([df2, clustersDf], axis = 1).reset_index()\n",
    "combinedDf = combinedDf.drop(['index', 'level_0'], axis = 1)"
   ]
  },
  {
   "cell_type": "code",
   "execution_count": 127,
   "id": "079b6492",
   "metadata": {},
   "outputs": [],
   "source": [
    "cluster_0 = combinedDf[combinedDf['cluster_predicted'] == 0]\n",
    "cluster_1 = combinedDf[combinedDf['cluster_predicted'] == 1]\n",
    "cluster_2 = combinedDf[combinedDf['cluster_predicted'] == 2]"
   ]
  },
  {
   "cell_type": "code",
   "execution_count": 130,
   "id": "07456abc",
   "metadata": {},
   "outputs": [
    {
     "data": {
      "image/png": "[encoded data removed]",
      "text/plain": [
       "<Figure size 1080x360 with 1 Axes>"
      ]
     },
     "metadata": {
      "needs_background": "light"
     },
     "output_type": "display_data"
    }
   ],
   "source": [
    "plt.subplots(figsize = (15,5))\n",
    "sns.countplot(x=combinedDf['Gender'],order=combinedDf['Gender'].value_counts().index,hue=combinedDf['cluster_predicted'])\n",
    "plt.show()"
   ]
  },
  {
   "cell_type": "code",
   "execution_count": 131,
   "id": "9af63220",
   "metadata": {},
   "outputs": [
    {
     "data": {
      "image/png": "[encoded data removed]",
      "text/plain": [
       "<Figure size 1080x360 with 1 Axes>"
      ]
     },
     "metadata": {
      "needs_background": "light"
     },
     "output_type": "display_data"
    }
   ],
   "source": [
    "plt.subplots(figsize = (15,5))\n",
    "sns.countplot(x=combinedDf['Tenure_edit'],order=combinedDf['Tenure_edit'].value_counts().index,hue=combinedDf['cluster_predicted'])\n",
    "plt.show()"
   ]
  },
  {
   "cell_type": "code",
   "execution_count": 136,
   "id": "55f27f29",
   "metadata": {},
   "outputs": [
    {
     "data": {
      "text/html": [
       "<div>\n",
       "<style scoped>\n",
       "    .dataframe tbody tr th:only-of-type {\n",
       "        vertical-align: middle;\n",
       "    }\n",
       "\n",
       "    .dataframe tbody tr th {\n",
       "        vertical-align: top;\n",
       "    }\n",
       "\n",
       "    .dataframe thead th {\n",
       "        text-align: right;\n",
       "    }\n",
       "</style>\n",
       "<table border=\"1\" class=\"dataframe\">\n",
       "  <thead>\n",
       "    <tr style=\"text-align: right;\">\n",
       "      <th></th>\n",
       "      <th>Gender</th>\n",
       "      <th>Tenure_edit</th>\n",
       "      <th>Age Group</th>\n",
       "      <th>Branch_Transactions</th>\n",
       "      <th>ATM_Transactions</th>\n",
       "      <th>Phone_Transactions</th>\n",
       "      <th>Internet_Transactions</th>\n",
       "      <th>cluster_predicted</th>\n",
       "    </tr>\n",
       "  </thead>\n",
       "  <tbody>\n",
       "    <tr>\n",
       "      <th>28</th>\n",
       "      <td>F</td>\n",
       "      <td>5</td>\n",
       "      <td>40-50</td>\n",
       "      <td>3</td>\n",
       "      <td>0</td>\n",
       "      <td>0</td>\n",
       "      <td>0</td>\n",
       "      <td>1</td>\n",
       "    </tr>\n",
       "    <tr>\n",
       "      <th>57</th>\n",
       "      <td>F</td>\n",
       "      <td>5</td>\n",
       "      <td>40-50</td>\n",
       "      <td>1</td>\n",
       "      <td>11</td>\n",
       "      <td>0</td>\n",
       "      <td>0</td>\n",
       "      <td>1</td>\n",
       "    </tr>\n",
       "    <tr>\n",
       "      <th>65</th>\n",
       "      <td>F</td>\n",
       "      <td>5</td>\n",
       "      <td>40-50</td>\n",
       "      <td>4</td>\n",
       "      <td>0</td>\n",
       "      <td>0</td>\n",
       "      <td>0</td>\n",
       "      <td>1</td>\n",
       "    </tr>\n",
       "    <tr>\n",
       "      <th>77</th>\n",
       "      <td>F</td>\n",
       "      <td>5</td>\n",
       "      <td>40-50</td>\n",
       "      <td>2</td>\n",
       "      <td>1</td>\n",
       "      <td>0</td>\n",
       "      <td>0</td>\n",
       "      <td>1</td>\n",
       "    </tr>\n",
       "    <tr>\n",
       "      <th>97</th>\n",
       "      <td>F</td>\n",
       "      <td>5</td>\n",
       "      <td>40-50</td>\n",
       "      <td>3</td>\n",
       "      <td>0</td>\n",
       "      <td>0</td>\n",
       "      <td>0</td>\n",
       "      <td>1</td>\n",
       "    </tr>\n",
       "    <tr>\n",
       "      <th>...</th>\n",
       "      <td>...</td>\n",
       "      <td>...</td>\n",
       "      <td>...</td>\n",
       "      <td>...</td>\n",
       "      <td>...</td>\n",
       "      <td>...</td>\n",
       "      <td>...</td>\n",
       "      <td>...</td>\n",
       "    </tr>\n",
       "    <tr>\n",
       "      <th>104701</th>\n",
       "      <td>F</td>\n",
       "      <td>NaN</td>\n",
       "      <td>20-30</td>\n",
       "      <td>1</td>\n",
       "      <td>0</td>\n",
       "      <td>0</td>\n",
       "      <td>0</td>\n",
       "      <td>1</td>\n",
       "    </tr>\n",
       "    <tr>\n",
       "      <th>104702</th>\n",
       "      <td>F</td>\n",
       "      <td>NaN</td>\n",
       "      <td>0-20</td>\n",
       "      <td>1</td>\n",
       "      <td>0</td>\n",
       "      <td>0</td>\n",
       "      <td>0</td>\n",
       "      <td>1</td>\n",
       "    </tr>\n",
       "    <tr>\n",
       "      <th>104714</th>\n",
       "      <td>F</td>\n",
       "      <td>NaN</td>\n",
       "      <td>40-50</td>\n",
       "      <td>1</td>\n",
       "      <td>0</td>\n",
       "      <td>0</td>\n",
       "      <td>0</td>\n",
       "      <td>1</td>\n",
       "    </tr>\n",
       "    <tr>\n",
       "      <th>104727</th>\n",
       "      <td>F</td>\n",
       "      <td>NaN</td>\n",
       "      <td>40-50</td>\n",
       "      <td>0</td>\n",
       "      <td>0</td>\n",
       "      <td>0</td>\n",
       "      <td>0</td>\n",
       "      <td>1</td>\n",
       "    </tr>\n",
       "    <tr>\n",
       "      <th>104729</th>\n",
       "      <td>F</td>\n",
       "      <td>NaN</td>\n",
       "      <td>70-100</td>\n",
       "      <td>1</td>\n",
       "      <td>0</td>\n",
       "      <td>0</td>\n",
       "      <td>0</td>\n",
       "      <td>1</td>\n",
       "    </tr>\n",
       "  </tbody>\n",
       "</table>\n",
       "<p>21583 rows × 8 columns</p>\n",
       "</div>"
      ],
      "text/plain": [
       "       Gender Tenure_edit Age Group  Branch_Transactions  ATM_Transactions  \\\n",
       "28          F           5     40-50                    3                 0   \n",
       "57          F           5     40-50                    1                11   \n",
       "65          F           5     40-50                    4                 0   \n",
       "77          F           5     40-50                    2                 1   \n",
       "97          F           5     40-50                    3                 0   \n",
       "...       ...         ...       ...                  ...               ...   \n",
       "104701      F         NaN     20-30                    1                 0   \n",
       "104702      F         NaN      0-20                    1                 0   \n",
       "104714      F         NaN     40-50                    1                 0   \n",
       "104727      F         NaN     40-50                    0                 0   \n",
       "104729      F         NaN    70-100                    1                 0   \n",
       "\n",
       "        Phone_Transactions  Internet_Transactions  cluster_predicted  \n",
       "28                       0                      0                  1  \n",
       "57                       0                      0                  1  \n",
       "65                       0                      0                  1  \n",
       "77                       0                      0                  1  \n",
       "97                       0                      0                  1  \n",
       "...                    ...                    ...                ...  \n",
       "104701                   0                      0                  1  \n",
       "104702                   0                      0                  1  \n",
       "104714                   0                      0                  1  \n",
       "104727                   0                      0                  1  \n",
       "104729                   0                      0                  1  \n",
       "\n",
       "[21583 rows x 8 columns]"
      ]
     },
     "execution_count": 136,
     "metadata": {},
     "output_type": "execute_result"
    }
   ],
   "source": [
    "cluster_1"
   ]
  },
  {
   "cell_type": "code",
   "execution_count": null,
   "id": "1f326b49",
   "metadata": {},
   "outputs": [],
   "source": []
  }
 ],
 "metadata": {
  "kernelspec": {
   "display_name": "Python 3",
   "language": "python",
   "name": "python3"
  },
  "language_info": {
   "codemirror_mode": {
    "name": "ipython",
    "version": 3
   },
   "file_extension": ".py",
   "mimetype": "text/x-python",
   "name": "python",
   "nbconvert_exporter": "python",
   "pygments_lexer": "ipython3",
   "version": "3.8.8"
  }
 },
 "nbformat": 4,
 "nbformat_minor": 5
}
